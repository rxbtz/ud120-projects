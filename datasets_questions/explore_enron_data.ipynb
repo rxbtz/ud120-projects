{
 "cells": [
  {
   "cell_type": "markdown",
   "metadata": {},
   "source": [
    "# Origin file"
   ]
  },
  {
   "cell_type": "code",
   "execution_count": 1,
   "metadata": {},
   "outputs": [],
   "source": [
    "#!/usr/bin/python\n",
    "\n",
    "\"\"\" \n",
    "    Starter code for exploring the Enron dataset (emails + finances);\n",
    "    loads up the dataset (pickled dict of dicts).\n",
    "\n",
    "    The dataset has the form:\n",
    "    enron_data[\"LASTNAME FIRSTNAME MIDDLEINITIAL\"] = { features_dict }\n",
    "\n",
    "    {features_dict} is a dictionary of features associated with that person.\n",
    "    You should explore features_dict as part of the mini-project,\n",
    "    but here's an example to get you started:\n",
    "\n",
    "    enron_data[\"SKILLING JEFFREY K\"][\"bonus\"] = 5600000\n",
    "    \n",
    "\"\"\"\n",
    "\n",
    "import pickle\n",
    "\n",
    "enron_data = pickle.load(open(\"../final_project/final_project_dataset.pkl\", \"r\"))\n",
    "\n",
    "\n",
    "\n"
   ]
  },
  {
   "cell_type": "markdown",
   "metadata": {},
   "source": [
    "# Number of people in the data set"
   ]
  },
  {
   "cell_type": "code",
   "execution_count": 6,
   "metadata": {},
   "outputs": [
    {
     "name": "stdout",
     "output_type": "stream",
     "text": [
      "num of people: 146\n"
     ]
    }
   ],
   "source": [
    "print(\"num of people: %d\" % len(enron_data))"
   ]
  },
  {
   "cell_type": "markdown",
   "metadata": {},
   "source": [
    "# Number of features"
   ]
  },
  {
   "cell_type": "code",
   "execution_count": 18,
   "metadata": {},
   "outputs": [
    {
     "name": "stdout",
     "output_type": "stream",
     "text": [
      "{'bonus': 600000,\n",
      " 'deferral_payments': 'NaN',\n",
      " 'deferred_income': 'NaN',\n",
      " 'director_fees': 'NaN',\n",
      " 'email_address': 'mark.metts@enron.com',\n",
      " 'exercised_stock_options': 'NaN',\n",
      " 'expenses': 94299,\n",
      " 'from_messages': 29,\n",
      " 'from_poi_to_this_person': 38,\n",
      " 'from_this_person_to_poi': 1,\n",
      " 'loan_advances': 'NaN',\n",
      " 'long_term_incentive': 'NaN',\n",
      " 'other': 1740,\n",
      " 'poi': False,\n",
      " 'restricted_stock': 585062,\n",
      " 'restricted_stock_deferred': 'NaN',\n",
      " 'salary': 365788,\n",
      " 'shared_receipt_with_poi': 702,\n",
      " 'to_messages': 807,\n",
      " 'total_payments': 1061827,\n",
      " 'total_stock_value': 585062}\n",
      "num of features: 21\n"
     ]
    }
   ],
   "source": [
    "import pprint\n",
    "firstKey = enron_data.keys()[0]\n",
    "features = enron_data[firstKey]\n",
    "pprint.pprint(features)\n",
    "print (\"num of features: %d\" % len(features))\n"
   ]
  },
  {
   "cell_type": "markdown",
   "metadata": {},
   "source": [
    "# Number of POIs from the dataset"
   ]
  },
  {
   "cell_type": "code",
   "execution_count": 26,
   "metadata": {},
   "outputs": [
    {
     "name": "stdout",
     "output_type": "stream",
     "text": [
      "['HANNON KEVIN P',\n",
      " 'COLWELL WESLEY',\n",
      " 'RIEKER PAULA H',\n",
      " 'KOPPER MICHAEL J',\n",
      " 'SHELBY REX',\n",
      " 'DELAINEY DAVID W',\n",
      " 'LAY KENNETH L',\n",
      " 'BOWEN JR RAYMOND M',\n",
      " 'BELDEN TIMOTHY N',\n",
      " 'FASTOW ANDREW S',\n",
      " 'CALGER CHRISTOPHER F',\n",
      " 'RICE KENNETH D',\n",
      " 'SKILLING JEFFREY K',\n",
      " 'YEAGER F SCOTT',\n",
      " 'HIRKO JOSEPH',\n",
      " 'KOENIG MARK E',\n",
      " 'CAUSEY RICHARD A',\n",
      " 'GLISAN JR BEN F']\n",
      "num of POIs: 18\n"
     ]
    }
   ],
   "source": [
    "POIs = []\n",
    "for person, features in enron_data.items():\n",
    "    if (features['poi'] == True):\n",
    "        POIs.append(person)\n",
    "pprint.pprint(POIs)\n",
    "print(\"num of POIs: %d\" % len(POIs))\n",
    "        "
   ]
  },
  {
   "cell_type": "markdown",
   "metadata": {},
   "source": [
    "# Number of existing POIs that we know"
   ]
  },
  {
   "cell_type": "code",
   "execution_count": 31,
   "metadata": {},
   "outputs": [
    {
     "name": "stdout",
     "output_type": "stream",
     "text": [
      "['(y) Lay, Kenneth\\n',\n",
      " '(y) Skilling, Jeffrey\\n',\n",
      " '(n) Howard, Kevin\\n',\n",
      " '(n) Krautz, Michael\\n',\n",
      " '(n) Yeager, Scott\\n',\n",
      " '(n) Hirko, Joseph\\n',\n",
      " '(n) Shelby, Rex\\n',\n",
      " '(n) Bermingham, David\\n',\n",
      " '(n) Darby, Giles\\n',\n",
      " '(n) Mulgrew, Gary\\n',\n",
      " '(n) Bayley, Daniel\\n',\n",
      " '(n) Brown, James\\n',\n",
      " '(n) Furst, Robert\\n',\n",
      " '(n) Fuhs, William\\n',\n",
      " '(n) Causey, Richard\\n',\n",
      " '(n) Calger, Christopher\\n',\n",
      " '(n) DeSpain, Timothy\\n',\n",
      " '(n) Hannon, Kevin\\n',\n",
      " '(n) Koenig, Mark\\n',\n",
      " '(y) Forney, John\\n',\n",
      " '(n) Rice, Kenneth\\n',\n",
      " '(n) Rieker, Paula\\n',\n",
      " '(n) Fastow, Lea\\n',\n",
      " '(n) Fastow, Andrew\\n',\n",
      " '(y) Delainey, David\\n',\n",
      " '(n) Glisan, Ben\\n',\n",
      " '(n) Richter, Jeffrey\\n',\n",
      " '(n) Lawyer, Larry\\n',\n",
      " '(n) Belden, Timothy\\n',\n",
      " '(n) Kopper, Michael\\n',\n",
      " '(n) Duncan, David\\n',\n",
      " '(n) Bowen, Raymond\\n',\n",
      " '(n) Colwell, Wesley\\n',\n",
      " '(n) Boyle, Dan\\n',\n",
      " '(n) Loehr, Christopher\\n']\n",
      "Number of existing POIs: 35\n"
     ]
    }
   ],
   "source": [
    "with open('../final_project/poi_names.txt', 'r') as f:\n",
    "    content = f.readlines()\n",
    "\n",
    "POIs = []\n",
    "for line in content:\n",
    "    if line[0] == '(':\n",
    "        POIs.append(line)\n",
    "        \n",
    "pprint.pprint(POIs)\n",
    "print(\"Number of existing POIs: %d\" % len(POIs))"
   ]
  },
  {
   "cell_type": "markdown",
   "metadata": {},
   "source": [
    "# Total stock value of James Prentice"
   ]
  },
  {
   "cell_type": "code",
   "execution_count": 35,
   "metadata": {},
   "outputs": [
    {
     "name": "stdout",
     "output_type": "stream",
     "text": [
      "1095040\n"
     ]
    }
   ],
   "source": [
    "print(enron_data['PRENTICE JAMES']['total_stock_value'])"
   ]
  },
  {
   "cell_type": "markdown",
   "metadata": {},
   "source": [
    "# Number of emails from Wesley Colwell to POIs"
   ]
  },
  {
   "cell_type": "code",
   "execution_count": 37,
   "metadata": {},
   "outputs": [
    {
     "name": "stdout",
     "output_type": "stream",
     "text": [
      "11\n"
     ]
    }
   ],
   "source": [
    "print(enron_data['COLWELL WESLEY']['from_this_person_to_poi'])"
   ]
  },
  {
   "cell_type": "markdown",
   "metadata": {},
   "source": [
    "# What’s the value of stock options exercised by Jeffrey K Skilling?"
   ]
  },
  {
   "cell_type": "code",
   "execution_count": 39,
   "metadata": {},
   "outputs": [
    {
     "name": "stdout",
     "output_type": "stream",
     "text": [
      "19250000\n"
     ]
    }
   ],
   "source": [
    "print(enron_data['SKILLING JEFFREY K']['exercised_stock_options'])"
   ]
  },
  {
   "cell_type": "markdown",
   "metadata": {},
   "source": [
    "# Who took the most money? How much?"
   ]
  },
  {
   "cell_type": "code",
   "execution_count": 43,
   "metadata": {},
   "outputs": [
    {
     "name": "stdout",
     "output_type": "stream",
     "text": [
      "[8682716, 2424083, 103559793]\n",
      "103559793\n"
     ]
    }
   ],
   "source": [
    "chairMan='LAY KENNETH L'\n",
    "CFO='FASTOW ANDREW S'\n",
    "CEO='SKILLING JEFFREY K'\n",
    "moneyTheyTook = [enron_data[CEO]['total_payments'], enron_data[CFO]['total_payments'], enron_data[chairMan]['total_payments']]\n",
    "print(moneyTheyTook)\n",
    "print(max(moneyTheyTook))"
   ]
  },
  {
   "cell_type": "markdown",
   "metadata": {},
   "source": [
    "# People with salary and email address"
   ]
  },
  {
   "cell_type": "code",
   "execution_count": 57,
   "metadata": {},
   "outputs": [
    {
     "name": "stdout",
     "output_type": "stream",
     "text": [
      "number of ppl with salary: 95\n",
      "number of ppl with email: 111\n"
     ]
    }
   ],
   "source": [
    "peopleWithSalary = [(x, y['salary']) for x, y in enron_data.items() if y['salary'] != 'NaN']\n",
    "#pprint.pprint(peopleWithSalary)\n",
    "print(\"number of ppl with salary: %d\" % len(peopleWithSalary))\n",
    "\n",
    "peopleWithEmail = [(x, y['salary']) for x, y in enron_data.items() if y['email_address'] != 'NaN']\n",
    "print(\"number of ppl with email: %d\" % len(peopleWithEmail))"
   ]
  },
  {
   "cell_type": "markdown",
   "metadata": {},
   "source": [
    "# People without payment data"
   ]
  },
  {
   "cell_type": "code",
   "execution_count": 74,
   "metadata": {},
   "outputs": [
    {
     "name": "stdout",
     "output_type": "stream",
     "text": [
      "[['CORDES WILLIAM R', 'NaN'],\n",
      " ['LOWRY CHARLES P', 'NaN'],\n",
      " ['CHAN RONNIE', 'NaN'],\n",
      " ['WHALEY DAVID A', 'NaN'],\n",
      " ['CLINE KENNETH W', 'NaN'],\n",
      " ['LEWIS RICHARD', 'NaN'],\n",
      " ['MCCARTY DANNY J', 'NaN'],\n",
      " ['POWERS WILLIAM', 'NaN'],\n",
      " ['PIRO JIM', 'NaN'],\n",
      " ['WROBEL BRUCE', 'NaN'],\n",
      " ['MCDONALD REBECCA', 'NaN'],\n",
      " ['SCRIMSHAW MATTHEW', 'NaN'],\n",
      " ['GATHMANN WILLIAM D', 'NaN'],\n",
      " ['GILLIS JOHN', 'NaN'],\n",
      " ['MORAN MICHAEL P', 'NaN'],\n",
      " ['LOCKHART EUGENE E', 'NaN'],\n",
      " ['SHERRICK JEFFREY B', 'NaN'],\n",
      " ['FOWLER PEGGY', 'NaN'],\n",
      " ['CHRISTODOULOU DIOMEDES', 'NaN'],\n",
      " ['HUGHES JAMES A', 'NaN'],\n",
      " ['HAYSLETT RODERICK J', 'NaN']]\n",
      "Percentage of people without payment: 0.143835616438\n"
     ]
    }
   ],
   "source": [
    "peopleWithoutPayment = [[x, y['total_payments']] for x, y in enron_data.items() if y['total_payments'] == 'NaN']\n",
    "pprint.pprint(peopleWithoutPayment)\n",
    "print \"Percentage of people without payment: \" + str(float(len(peopleWithoutPayment))/len(enron_data))"
   ]
  },
  {
   "cell_type": "markdown",
   "metadata": {},
   "source": [
    "# Add new entreis"
   ]
  },
  {
   "cell_type": "code",
   "execution_count": 82,
   "metadata": {},
   "outputs": [],
   "source": [
    "new_feature = {\n",
    " 'bonus': 'NaN',\n",
    " 'deferral_payments': 'NaN',\n",
    " 'deferred_income': 'NaN',\n",
    " 'director_fees': 'NaN',\n",
    " 'email_address': 'NaN',\n",
    " 'exercised_stock_options': 'NaN',\n",
    " 'expenses': 'NaN',\n",
    " 'from_messages': 'NaN',\n",
    " 'from_poi_to_this_person': 'NaN',\n",
    " 'from_this_person_to_poi': 'NaN',\n",
    " 'loan_advances': 'NaN',\n",
    " 'long_term_incentive': 'NaN',\n",
    " 'other': 'NaN',\n",
    " 'poi': True,\n",
    " 'restricted_stock': 'NaN',\n",
    " 'restricted_stock_deferred': 'NaN',\n",
    " 'salary': 'NaN',\n",
    " 'shared_receipt_with_poi': 'NaN',\n",
    " 'to_messages': 'NaN',\n",
    " 'total_payments': 'NaN',\n",
    " 'total_stock_value': 'NaN'}\n",
    "\n",
    "#enron_data['POI1'] = new_feature\n",
    "enron_data['POI2'] = new_feature\n",
    "enron_data['POI3'] = new_feature\n",
    "enron_data['POI4'] = new_feature\n",
    "enron_data['POI5'] = new_feature\n",
    "enron_data['POI6'] = new_feature\n",
    "enron_data['POI7'] = new_feature\n",
    "enron_data['POI8'] = new_feature\n",
    "enron_data['POI9'] = new_feature\n",
    "enron_data['POI10'] = new_feature"
   ]
  },
  {
   "cell_type": "markdown",
   "metadata": {},
   "source": [
    "# Number of people and people without payment"
   ]
  },
  {
   "cell_type": "code",
   "execution_count": 84,
   "metadata": {},
   "outputs": [
    {
     "data": {
      "text/plain": [
       "156"
      ]
     },
     "execution_count": 84,
     "metadata": {},
     "output_type": "execute_result"
    }
   ],
   "source": [
    "len(enron_data)"
   ]
  },
  {
   "cell_type": "code",
   "execution_count": 87,
   "metadata": {},
   "outputs": [
    {
     "name": "stdout",
     "output_type": "stream",
     "text": [
      "[['CORDES WILLIAM R', 'NaN'],\n",
      " ['POI3', 'NaN'],\n",
      " ['POI9', 'NaN'],\n",
      " ['LOWRY CHARLES P', 'NaN'],\n",
      " ['POI5', 'NaN'],\n",
      " ['POI6', 'NaN'],\n",
      " ['CHAN RONNIE', 'NaN'],\n",
      " ['WHALEY DAVID A', 'NaN'],\n",
      " ['CLINE KENNETH W', 'NaN'],\n",
      " ['LEWIS RICHARD', 'NaN'],\n",
      " ['MCCARTY DANNY J', 'NaN'],\n",
      " ['POWERS WILLIAM', 'NaN'],\n",
      " ['POI8', 'NaN'],\n",
      " ['PIRO JIM', 'NaN'],\n",
      " ['WROBEL BRUCE', 'NaN'],\n",
      " ['MCDONALD REBECCA', 'NaN'],\n",
      " ['SCRIMSHAW MATTHEW', 'NaN'],\n",
      " ['GATHMANN WILLIAM D', 'NaN'],\n",
      " ['POI2', 'NaN'],\n",
      " ['GILLIS JOHN', 'NaN'],\n",
      " ['POI4', 'NaN'],\n",
      " ['MORAN MICHAEL P', 'NaN'],\n",
      " ['POI7', 'NaN'],\n",
      " ['LOCKHART EUGENE E', 'NaN'],\n",
      " ['SHERRICK JEFFREY B', 'NaN'],\n",
      " ['FOWLER PEGGY', 'NaN'],\n",
      " ['CHRISTODOULOU DIOMEDES', 'NaN'],\n",
      " ['HUGHES JAMES A', 'NaN'],\n",
      " ['HAYSLETT RODERICK J', 'NaN'],\n",
      " ['POI1', 'NaN'],\n",
      " ['POI10', 'NaN']]\n",
      "num of people without payment: 31 \n"
     ]
    }
   ],
   "source": [
    "peopleWithoutPayment = [[x, y['total_payments']] for x, y in enron_data.items() if y['total_payments'] == 'NaN']\n",
    "pprint.pprint(peopleWithoutPayment)\n",
    "print(\"num of people without payment: %d \" % len(peopleWithoutPayment))"
   ]
  },
  {
   "cell_type": "code",
   "execution_count": null,
   "metadata": {},
   "outputs": [],
   "source": []
  }
 ],
 "metadata": {
  "kernelspec": {
   "display_name": "udacity_machine_learning_py27",
   "language": "python",
   "name": "udacity_machine_learning_py27"
  },
  "language_info": {
   "codemirror_mode": {
    "name": "ipython",
    "version": 2
   },
   "file_extension": ".py",
   "mimetype": "text/x-python",
   "name": "python",
   "nbconvert_exporter": "python",
   "pygments_lexer": "ipython2",
   "version": "2.7.14"
  }
 },
 "nbformat": 4,
 "nbformat_minor": 2
}
