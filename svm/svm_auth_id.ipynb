{
 "cells": [
  {
   "cell_type": "markdown",
   "metadata": {},
   "source": [
    "# Original file:"
   ]
  },
  {
   "cell_type": "code",
   "execution_count": 1,
   "metadata": {},
   "outputs": [
    {
     "name": "stderr",
     "output_type": "stream",
     "text": [
      "/Users/rexwang/anaconda3/envs/udacity_machine_learning_py27/lib/python2.7/site-packages/sklearn/cross_validation.py:41: DeprecationWarning: This module was deprecated in version 0.18 in favor of the model_selection module into which all the refactored classes and functions are moved. Also note that the interface of the new CV iterators are different from that of this module. This module will be removed in 0.20.\n",
      "  \"This module will be removed in 0.20.\", DeprecationWarning)\n"
     ]
    },
    {
     "name": "stdout",
     "output_type": "stream",
     "text": [
      "no. of Chris training emails: 7936\n",
      "no. of Sara training emails: 7884\n"
     ]
    }
   ],
   "source": [
    "#!/usr/bin/python\n",
    "\n",
    "\"\"\" \n",
    "    This is the code to accompany the Lesson 2 (SVM) mini-project.\n",
    "\n",
    "    Use a SVM to identify emails from the Enron corpus by their authors:    \n",
    "    Sara has label 0\n",
    "    Chris has label 1\n",
    "\"\"\"\n",
    "    \n",
    "import sys\n",
    "from time import time\n",
    "sys.path.append(\"../tools/\")\n",
    "from email_preprocess import preprocess\n",
    "\n",
    "\n",
    "### features_train and features_test are the features for the training\n",
    "### and testing datasets, respectively\n",
    "### labels_train and labels_test are the corresponding item labels\n",
    "features_train, features_test, labels_train, labels_test = preprocess()\n",
    "\n",
    "\n",
    "\n",
    "\n",
    "#########################################################\n",
    "### your code goes here ###\n",
    "from sklearn.svm import SVC\n",
    "\n",
    "#########################################################\n",
    "\n",
    "\n",
    "\n"
   ]
  },
  {
   "cell_type": "markdown",
   "metadata": {},
   "source": [
    "# linear svm accuracy and time"
   ]
  },
  {
   "cell_type": "code",
   "execution_count": 8,
   "metadata": {},
   "outputs": [
    {
     "name": "stdout",
     "output_type": "stream",
     "text": [
      "Training time: 144.706 s\n",
      "Predict time: 14.735 s\n",
      "Accuracy: 0.984\n"
     ]
    }
   ],
   "source": [
    "clf = SVC(kernel=\"linear\")\n",
    "t0 = time()\n",
    "clf.fit(features_train, labels_train)\n",
    "print \"Training time:\", round(time()-t0,3), \"s\"\n",
    "\n",
    "t0 = time()\n",
    "score = clf.score(features_test, labels_test)\n",
    "print \"Predict time:\", round(time()-t0,3), \"s\"\n",
    "print(\"Accuracy: %.3f\" % score)"
   ]
  },
  {
   "cell_type": "markdown",
   "metadata": {},
   "source": [
    "# Smaller training set"
   ]
  },
  {
   "cell_type": "code",
   "execution_count": 9,
   "metadata": {},
   "outputs": [
    {
     "name": "stdout",
     "output_type": "stream",
     "text": [
      "Training time: 0.085 s\n",
      "Predict time: 0.887 s\n",
      "Accuracy: 0.885\n"
     ]
    }
   ],
   "source": [
    "small_features_train = features_train[:len(features_train)/100] \n",
    "small_labels_train = labels_train[:len(labels_train)/100]\n",
    "clf = SVC(kernel=\"linear\")\n",
    "t0 = time()\n",
    "clf.fit(small_features_train, small_labels_train)\n",
    "print \"Training time:\", round(time()-t0,3), \"s\"\n",
    "\n",
    "t0 = time()\n",
    "score = clf.score(features_test, labels_test)\n",
    "print \"Predict time:\", round(time()-t0,3), \"s\"\n",
    "print(\"Accuracy: %.3f\" % score)"
   ]
  },
  {
   "cell_type": "markdown",
   "metadata": {},
   "source": [
    "# RBF kernel with small training set"
   ]
  },
  {
   "cell_type": "code",
   "execution_count": 10,
   "metadata": {},
   "outputs": [
    {
     "name": "stdout",
     "output_type": "stream",
     "text": [
      "Training time: 0.099 s\n",
      "Predict time: 1.005 s\n",
      "Accuracy: 0.616\n"
     ]
    }
   ],
   "source": [
    "clf = SVC()\n",
    "t0 = time()\n",
    "clf.fit(small_features_train, small_labels_train)\n",
    "print \"Training time:\", round(time()-t0,3), \"s\"\n",
    "\n",
    "t0 = time()\n",
    "score = clf.score(features_test, labels_test)\n",
    "print \"Predict time:\", round(time()-t0,3), \"s\"\n",
    "print(\"Accuracy: %.3f\" % score)"
   ]
  },
  {
   "cell_type": "markdown",
   "metadata": {},
   "source": [
    "# RBF with different C"
   ]
  },
  {
   "cell_type": "code",
   "execution_count": 12,
   "metadata": {},
   "outputs": [
    {
     "name": "stdout",
     "output_type": "stream",
     "text": [
      "C = 10\n",
      "  Training time: 0.094 s\n",
      "  Predict time: 0.997 s\n",
      "  Accuracy: 0.616\n",
      "C = 100\n",
      "  Training time: 0.089 s\n",
      "  Predict time: 1.02 s\n",
      "  Accuracy: 0.616\n",
      "C = 1000\n",
      "  Training time: 0.095 s\n",
      "  Predict time: 0.966 s\n",
      "  Accuracy: 0.821\n",
      "C = 10000\n",
      "  Training time: 0.088 s\n",
      "  Predict time: 0.786 s\n",
      "  Accuracy: 0.892\n",
      "C = 100000\n",
      "  Training time: 0.088 s\n",
      "  Predict time: 0.72 s\n",
      "  Accuracy: 0.860\n"
     ]
    }
   ],
   "source": [
    "for i in [10, 100, 1000, 10000, 100000]:\n",
    "    print(\"C = %d\" % i)\n",
    "    clf = SVC(C=i)\n",
    "    t0 = time()\n",
    "    clf.fit(small_features_train, small_labels_train)\n",
    "    print \"  Training time:\", round(time()-t0,3), \"s\"\n",
    "\n",
    "    t0 = time()\n",
    "    score = clf.score(features_test, labels_test)\n",
    "    print \"  Predict time:\", round(time()-t0,3), \"s\"\n",
    "    print(\"  Accuracy: %.3f\" % score)"
   ]
  },
  {
   "cell_type": "markdown",
   "metadata": {},
   "source": [
    "C = 10000 gives the best accuracy (0.892)"
   ]
  },
  {
   "cell_type": "markdown",
   "metadata": {},
   "source": [
    "# RBF with full training data"
   ]
  },
  {
   "cell_type": "code",
   "execution_count": 14,
   "metadata": {},
   "outputs": [
    {
     "name": "stdout",
     "output_type": "stream",
     "text": [
      "Training time: 107.333 s\n",
      "Predict time: 10.035 s\n",
      "Accuracy: 0.991\n"
     ]
    }
   ],
   "source": [
    "clf = SVC(C=10000)\n",
    "t0 = time()\n",
    "clf.fit(features_train, labels_train)\n",
    "print \"Training time:\", round(time()-t0,3), \"s\"\n",
    "\n",
    "t0 = time()\n",
    "score = clf.score(features_test, labels_test)\n",
    "print \"Predict time:\", round(time()-t0,3), \"s\"\n",
    "print(\"Accuracy: %.3f\" % score)"
   ]
  },
  {
   "cell_type": "markdown",
   "metadata": {},
   "source": [
    "# Get prediction result for test 10, 26 and 50"
   ]
  },
  {
   "cell_type": "code",
   "execution_count": 16,
   "metadata": {},
   "outputs": [
    {
     "name": "stdout",
     "output_type": "stream",
     "text": [
      "Predict result [10] = 1, [26] = 0, [50] = 1\n"
     ]
    }
   ],
   "source": [
    "pred = clf.predict(features_test)\n",
    "print(\"Predict result [10] = %d, [26] = %d, [50] = %d\" % (pred[10],pred[26],pred[50]))"
   ]
  },
  {
   "cell_type": "markdown",
   "metadata": {},
   "source": [
    "# Find total number of predictions for class 1 "
   ]
  },
  {
   "cell_type": "code",
   "execution_count": 22,
   "metadata": {},
   "outputs": [
    {
     "name": "stdout",
     "output_type": "stream",
     "text": [
      "Number of predictions for class 1: 877\n"
     ]
    }
   ],
   "source": [
    "import numpy as np\n",
    "print(\"Number of predictions for class 1: %d\" % np.count_nonzero(pred))"
   ]
  },
  {
   "cell_type": "code",
   "execution_count": null,
   "metadata": {},
   "outputs": [],
   "source": []
  }
 ],
 "metadata": {
  "kernelspec": {
   "display_name": "udacity_machine_learning_py27",
   "language": "python",
   "name": "udacity_machine_learning_py27"
  },
  "language_info": {
   "codemirror_mode": {
    "name": "ipython",
    "version": 2
   },
   "file_extension": ".py",
   "mimetype": "text/x-python",
   "name": "python",
   "nbconvert_exporter": "python",
   "pygments_lexer": "ipython2",
   "version": "2.7.14"
  }
 },
 "nbformat": 4,
 "nbformat_minor": 2
}
